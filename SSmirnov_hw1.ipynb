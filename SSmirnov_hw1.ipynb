{
  "cells":[
    {
      "cell_type":"code",
      "source":[
        "import numpy as np\n",
        "import pandas as pd"
      ],
      "execution_count":1,
      "outputs":[
        
      ],
      "metadata":{
        
      }
    },
    {
      "cell_type":"markdown",
      "source":[
        "<h2> Оглавление <\/h2>\n",
        "<ul>  <li> <h3> Вычисления с помощью Numpy <\/h3>\n",
        "     <ul>  <li> <a href = \"#task001\"> Задание1<\/a><\/li>\n",
        "           <li> <a href = \"#task002\"> Задание2<\/a><\/li>\n",
        "           <li> <a href = \"#task003\"> Задание3<\/a><\/li>\n",
        "           <li> <a href = \"#task004\"> Задание4<\/a><\/li>\n",
        "     <\/ul>\n",
        "     <\/li>\n",
        "     <li> <h3> Работа с данными в Pandas <\/h3>\n",
        "     <ul> <li> <a href = \"#task021\"> Задание1<\/a><\/li>\n",
        "          <li> <a href = \"#task022\"> Задание2<\/a><\/li>\n",
        "          <li> <a href = \"#task023\"> Задание3<\/a><\/li>\n",
        "          <li> <a href = \"#task024\"> Задание4<\/a><\/li>\n",
        "          <li> <a href = \"#task025\"> Задание5<\/a><\/li>\n",
        "           <\/ul>\n",
        "     <\/li>\n",
        "<\/ul>"
      ],
      "metadata":{
        
      }
    },
    {
      "cell_type":"markdown",
      "source":[
        "<h3 id = \"task001\"> Задание1<\/h3>\n",
        "<p> Импортируйте библиотеку Numpy и дайте ей псевдоним np.\n",
        "Создайте массив Numpy под названием a размером 5x2, то есть состоящий из 5 строк и 2 столбцов. Первый столбец должен содержать числа 1, 2, 3, 3, 1, а второй - числа 6, 8, 11, 10, 7. Будем считать, что каждый столбец - это признак, а строка - наблюдение. Затем найдите среднее значение по каждому признаку, используя метод mean массива Numpy. Результат запишите в массив mean_a, в нем должно быть 2 элемента.<\/p>"
      ],
      "metadata":{
        
      }
    },
    {
      "cell_type":"code",
      "source":[
        "arr1 = np.array([[1,2,3,3,1], [6,8,11,10,7]])\n",
        "arr1.shape"
      ],
      "execution_count":2,
      "outputs":[
        {
          "data":{
            "text\/plain":[
              "(2, 5)"
            ]
          },
          "metadata":{
            
          },
          "output_type":"display_data"
        }
      ],
      "metadata":{
        
      }
    },
    {
      "cell_type":"code",
      "source":[
        "arr1 = arr1.T\n",
        "arr1"
      ],
      "execution_count":3,
      "outputs":[
        {
          "data":{
            "text\/plain":[
              "array([[ 1,  6],\n",
              "       [ 2,  8],\n",
              "       [ 3, 11],\n",
              "       [ 3, 10],\n",
              "       [ 1,  7]])"
            ]
          },
          "metadata":{
            
          },
          "output_type":"display_data"
        }
      ],
      "metadata":{
        
      }
    },
    {
      "cell_type":"code",
      "source":[
        "mean_a = arr1.mean(axis =0)\n",
        "print(mean_a)"
      ],
      "execution_count":4,
      "outputs":[
        {
          "name":"stdout",
          "text":[
            "[2.  8.4]\n"
          ],
          "output_type":"stream"
        }
      ],
      "metadata":{
        
      }
    },
    {
      "cell_type":"markdown",
      "source":[
        "<h3 id = \"task002\"> Задание2 <\/h3>\n",
        "<p> Вычислите массив a_centered, отняв от значений массива “а” средние значения соответствующих\n",
        "признаков, содержащиеся в массиве mean_a. Вычисление должно производиться в одно действие.\n",
        "Получившийся массив должен иметь размер 5x2.<\/p>"
      ],
      "metadata":{
        
      }
    },
    {
      "cell_type":"code",
      "source":[
        "a_centered = arr1 - mean_a\n",
        "print('Форма a_centered', a_centered.shape)\n",
        "print(a_centered)"
      ],
      "execution_count":5,
      "outputs":[
        {
          "name":"stdout",
          "text":[
            "Форма a_centered (5, 2)\n",
            "[[-1.  -2.4]\n",
            " [ 0.  -0.4]\n",
            " [ 1.   2.6]\n",
            " [ 1.   1.6]\n",
            " [-1.  -1.4]]\n"
          ],
          "output_type":"stream"
        }
      ],
      "metadata":{
        
      }
    },
    {
      "cell_type":"markdown",
      "source":[
        "<h3 id = \"task003\"> Задание3 <\/h3>\n",
        "<p> Найдите скалярное произведение столбцов массива a_centered. В результате должна получиться\n",
        "величина a_centered_sp. Затем поделите a_centered_sp на N-1, где N - число наблюдений.<\/p>"
      ],
      "metadata":{
        
      }
    },
    {
      "cell_type":"code",
      "source":[
        "a_centered_sp = np.dot(a_centered[:, 0], a_centered[:, 1])\n",
        "print(\"a_centered_sp = \", a_centered_sp)\n",
        "a_covv = a_centered_sp \/ (a_centered.shape[0]-1) # число наблюдений у нас в строках значит нулевой индекс  из массива shape\n",
        "print(\"a_covv = \", a_covv)"
      ],
      "execution_count":6,
      "outputs":[
        {
          "name":"stdout",
          "text":[
            "a_centered_sp =  8.0\n",
            "a_covv =  2.0\n"
          ],
          "output_type":"stream"
        }
      ],
      "metadata":{
        
      }
    },
    {
      "cell_type":"markdown",
      "source":[
        "<h3 id = \"task004\"> Задание4 <\/h3>\n",
        "<p> Число, которое мы получили в конце задания 3 является ковариацией двух признаков, содержащихся\n",
        "в массиве “а”. В задании 4 мы делили сумму произведений центрированных признаков на N-1, а не на\n",
        "N, поэтому полученная нами величина является несмещенной оценкой ковариации.<\/p>"
      ],
      "metadata":{
        
      }
    },
    {
      "cell_type":"code",
      "source":[
        "#проверка\n",
        "a_covv2 = np.cov(arr1.T, ddof=1) # ddоf - дельта степеней свободы для оценки несмещенной дисперсии (ковариации)\n",
        "print(a_covv2[0,1] == a_covv) # Если True проверка пройдена"
      ],
      "execution_count":7,
      "outputs":[
        {
          "name":"stdout",
          "text":[
            "True\n"
          ],
          "output_type":"stream"
        }
      ],
      "metadata":{
        
      }
    },
    {
      "cell_type":"markdown",
      "source":[
        "<h3 id = \"task021\"> Задание1 <\/h3>\n",
        "<p> Импортируйте библиотеку Pandas и дайте ей псевдоним pd. Создайте датафрейм authors со\n",
        "столбцами author_id и author_name, в которых соответственно содержатся данные: [1, 2, 3] и\n",
        "['Тургенев', 'Чехов', 'Островский'].\n",
        "Затем создайте датафрейм book cо столбцами author_id, book_title и price, в которых соответственно\n",
        "содержатся данные:\n",
        "[1, 1, 1, 2, 2, 3, 3],\n",
        "['Отцы и дети', 'Рудин', 'Дворянское гнездо', 'Толстый и тонкий', 'Дама с собачкой', 'Гроза', 'Таланты и\n",
        "поклонники'],\n",
        "[450, 300, 350, 500, 450, 370, 290].<p>"
      ],
      "metadata":{
        
      }
    },
    {
      "cell_type":"code",
      "source":[
        "authors = pd.DataFrame({'author_id': [1, 2, 3],\n",
        "                        'author_name':['Тургенев','Чехов', 'Островский']})\n",
        "book = pd.DataFrame({'author_id': [1, 1, 1, 2, 2, 3, 3],\n",
        "                     'book_title': ['Отцы и дети','Рудин','Дворянское гнездо', 'Толстый и тонкий', 'Дама с собачкой', 'Гроза', \n",
        "                                   'Таланты и поклонники'],\n",
        "                     'price': [450, 300, 350, 500, 450, 370, 290]\n",
        "                    })\n",
        "\n",
        "# выводим созданные таблицы\n",
        "print(\"autors DataFrame \\n\", authors)     \n",
        "print(\"book DataFrame \\n\", book)              "
      ],
      "execution_count":8,
      "outputs":[
        {
          "name":"stdout",
          "text":[
            "autors DataFrame \n",
            "    author_id author_name\n",
            "0          1    Тургенев\n",
            "1          2       Чехов\n",
            "2          3  Островский\n",
            "book DataFrame \n",
            "    author_id            book_title  price\n",
            "0          1           Отцы и дети    450\n",
            "1          1                 Рудин    300\n",
            "2          1     Дворянское гнездо    350\n",
            "3          2      Толстый и тонкий    500\n",
            "4          2       Дама с собачкой    450\n",
            "5          3                 Гроза    370\n",
            "6          3  Таланты и поклонники    290\n"
          ],
          "output_type":"stream"
        }
      ],
      "metadata":{
        
      }
    },
    {
      "cell_type":"markdown",
      "source":[
        "<h3 id =\"task022\"> Задание2<\/h3>\n",
        "<p> Получите датафрейм authors_price, соединив датафреймы authors и books по полю author_id. <\/p>"
      ],
      "metadata":{
        
      }
    },
    {
      "cell_type":"code",
      "source":[
        "authors_price = pd.merge(authors, book, on = 'author_id')\n",
        "authors_price"
      ],
      "execution_count":9,
      "outputs":[
        {
          "data":{
            "text\/html":[
              "<div>\n",
              "<style scoped>\n",
              "    .dataframe tbody tr th:only-of-type {\n",
              "        vertical-align: middle;\n",
              "    }\n",
              "\n",
              "    .dataframe tbody tr th {\n",
              "        vertical-align: top;\n",
              "    }\n",
              "\n",
              "    .dataframe thead th {\n",
              "        text-align: right;\n",
              "    }\n",
              "<\/style>\n",
              "<table border=\"1\" class=\"dataframe\">\n",
              "  <thead>\n",
              "    <tr style=\"text-align: right;\">\n",
              "      <th><\/th>\n",
              "      <th>author_id<\/th>\n",
              "      <th>author_name<\/th>\n",
              "      <th>book_title<\/th>\n",
              "      <th>price<\/th>\n",
              "    <\/tr>\n",
              "  <\/thead>\n",
              "  <tbody>\n",
              "    <tr>\n",
              "      <th>0<\/th>\n",
              "      <td>1<\/td>\n",
              "      <td>Тургенев<\/td>\n",
              "      <td>Отцы и дети<\/td>\n",
              "      <td>450<\/td>\n",
              "    <\/tr>\n",
              "    <tr>\n",
              "      <th>1<\/th>\n",
              "      <td>1<\/td>\n",
              "      <td>Тургенев<\/td>\n",
              "      <td>Рудин<\/td>\n",
              "      <td>300<\/td>\n",
              "    <\/tr>\n",
              "    <tr>\n",
              "      <th>2<\/th>\n",
              "      <td>1<\/td>\n",
              "      <td>Тургенев<\/td>\n",
              "      <td>Дворянское гнездо<\/td>\n",
              "      <td>350<\/td>\n",
              "    <\/tr>\n",
              "    <tr>\n",
              "      <th>3<\/th>\n",
              "      <td>2<\/td>\n",
              "      <td>Чехов<\/td>\n",
              "      <td>Толстый и тонкий<\/td>\n",
              "      <td>500<\/td>\n",
              "    <\/tr>\n",
              "    <tr>\n",
              "      <th>4<\/th>\n",
              "      <td>2<\/td>\n",
              "      <td>Чехов<\/td>\n",
              "      <td>Дама с собачкой<\/td>\n",
              "      <td>450<\/td>\n",
              "    <\/tr>\n",
              "    <tr>\n",
              "      <th>5<\/th>\n",
              "      <td>3<\/td>\n",
              "      <td>Островский<\/td>\n",
              "      <td>Гроза<\/td>\n",
              "      <td>370<\/td>\n",
              "    <\/tr>\n",
              "    <tr>\n",
              "      <th>6<\/th>\n",
              "      <td>3<\/td>\n",
              "      <td>Островский<\/td>\n",
              "      <td>Таланты и поклонники<\/td>\n",
              "      <td>290<\/td>\n",
              "    <\/tr>\n",
              "  <\/tbody>\n",
              "<\/table>\n",
              "<\/div>"
            ]
          },
          "metadata":{
            
          },
          "output_type":"display_data"
        }
      ],
      "metadata":{
        
      }
    },
    {
      "cell_type":"markdown",
      "source":[
        "<h3 id =\"task023\">Задание3<\/h3>\n",
        "<p>Создайте датафрейм top5, в котором содержатся строки из authors_price с пятью самыми дорогими\n",
        "книгами.<\/p>"
      ],
      "metadata":{
        
      }
    },
    {
      "cell_type":"code",
      "source":[
        "top5 = authors_price.sort_values(by = 'price', ascending = False).iloc[:5, :]\n",
        "top5"
      ],
      "execution_count":10,
      "outputs":[
        {
          "data":{
            "text\/html":[
              "<div>\n",
              "<style scoped>\n",
              "    .dataframe tbody tr th:only-of-type {\n",
              "        vertical-align: middle;\n",
              "    }\n",
              "\n",
              "    .dataframe tbody tr th {\n",
              "        vertical-align: top;\n",
              "    }\n",
              "\n",
              "    .dataframe thead th {\n",
              "        text-align: right;\n",
              "    }\n",
              "<\/style>\n",
              "<table border=\"1\" class=\"dataframe\">\n",
              "  <thead>\n",
              "    <tr style=\"text-align: right;\">\n",
              "      <th><\/th>\n",
              "      <th>author_id<\/th>\n",
              "      <th>author_name<\/th>\n",
              "      <th>book_title<\/th>\n",
              "      <th>price<\/th>\n",
              "    <\/tr>\n",
              "  <\/thead>\n",
              "  <tbody>\n",
              "    <tr>\n",
              "      <th>3<\/th>\n",
              "      <td>2<\/td>\n",
              "      <td>Чехов<\/td>\n",
              "      <td>Толстый и тонкий<\/td>\n",
              "      <td>500<\/td>\n",
              "    <\/tr>\n",
              "    <tr>\n",
              "      <th>0<\/th>\n",
              "      <td>1<\/td>\n",
              "      <td>Тургенев<\/td>\n",
              "      <td>Отцы и дети<\/td>\n",
              "      <td>450<\/td>\n",
              "    <\/tr>\n",
              "    <tr>\n",
              "      <th>4<\/th>\n",
              "      <td>2<\/td>\n",
              "      <td>Чехов<\/td>\n",
              "      <td>Дама с собачкой<\/td>\n",
              "      <td>450<\/td>\n",
              "    <\/tr>\n",
              "    <tr>\n",
              "      <th>5<\/th>\n",
              "      <td>3<\/td>\n",
              "      <td>Островский<\/td>\n",
              "      <td>Гроза<\/td>\n",
              "      <td>370<\/td>\n",
              "    <\/tr>\n",
              "    <tr>\n",
              "      <th>2<\/th>\n",
              "      <td>1<\/td>\n",
              "      <td>Тургенев<\/td>\n",
              "      <td>Дворянское гнездо<\/td>\n",
              "      <td>350<\/td>\n",
              "    <\/tr>\n",
              "  <\/tbody>\n",
              "<\/table>\n",
              "<\/div>"
            ]
          },
          "metadata":{
            
          },
          "output_type":"display_data"
        }
      ],
      "metadata":{
        
      }
    },
    {
      "cell_type":"markdown",
      "source":[
        "<h3 id = \"task024\"> Задание4 <\/h3>\n",
        "<p>Создайте датафрейм authors_stat на основе информации из authors_price. В датафрейме authors_stat\n",
        "должны быть четыре столбца:\n",
        "author_name, min_price, max_price и mean_price,\n",
        "в которых должны содержаться соответственно имя автора, минимальная, максимальная и средняя\n",
        "цена на книги этого автора.<\/p>"
      ],
      "metadata":{
        
      }
    },
    {
      "cell_type":"code",
      "source":[
        "authors_stat = pd.DataFrame()\n",
        "authors_stat # создаем новый пустой датафрам"
      ],
      "execution_count":11,
      "outputs":[
        {
          "data":{
            "text\/html":[
              "<div>\n",
              "<style scoped>\n",
              "    .dataframe tbody tr th:only-of-type {\n",
              "        vertical-align: middle;\n",
              "    }\n",
              "\n",
              "    .dataframe tbody tr th {\n",
              "        vertical-align: top;\n",
              "    }\n",
              "\n",
              "    .dataframe thead th {\n",
              "        text-align: right;\n",
              "    }\n",
              "<\/style>\n",
              "<table border=\"1\" class=\"dataframe\">\n",
              "  <thead>\n",
              "    <tr style=\"text-align: right;\">\n",
              "      <th><\/th>\n",
              "    <\/tr>\n",
              "  <\/thead>\n",
              "  <tbody>\n",
              "  <\/tbody>\n",
              "<\/table>\n",
              "<\/div>"
            ]
          },
          "metadata":{
            
          },
          "output_type":"display_data"
        }
      ],
      "metadata":{
        
      }
    },
    {
      "cell_type":"code",
      "source":[
        "min_price = authors_price.groupby(by = 'author_name', as_index= True).min()\n",
        "max_price = authors_price.groupby(by = 'author_name', as_index= True).max()\n",
        "mean_price= authors_price.groupby(by = 'author_name', as_index= True).mean()\n",
        "authors_stat['author_name'] = min_price.index\n",
        "authors_stat.index = min_price.index\n",
        "authors_stat['min_price'] = min_price.price\n",
        "authors_stat['max_price'] = max_price.price\n",
        "authors_stat['mean_price'] = mean_price.price\n",
        "authors_stat"
      ],
      "execution_count":12,
      "outputs":[
        {
          "data":{
            "text\/html":[
              "<div>\n",
              "<style scoped>\n",
              "    .dataframe tbody tr th:only-of-type {\n",
              "        vertical-align: middle;\n",
              "    }\n",
              "\n",
              "    .dataframe tbody tr th {\n",
              "        vertical-align: top;\n",
              "    }\n",
              "\n",
              "    .dataframe thead th {\n",
              "        text-align: right;\n",
              "    }\n",
              "<\/style>\n",
              "<table border=\"1\" class=\"dataframe\">\n",
              "  <thead>\n",
              "    <tr style=\"text-align: right;\">\n",
              "      <th><\/th>\n",
              "      <th>author_name<\/th>\n",
              "      <th>min_price<\/th>\n",
              "      <th>max_price<\/th>\n",
              "      <th>mean_price<\/th>\n",
              "    <\/tr>\n",
              "    <tr>\n",
              "      <th>author_name<\/th>\n",
              "      <th><\/th>\n",
              "      <th><\/th>\n",
              "      <th><\/th>\n",
              "      <th><\/th>\n",
              "    <\/tr>\n",
              "  <\/thead>\n",
              "  <tbody>\n",
              "    <tr>\n",
              "      <th>Островский<\/th>\n",
              "      <td>Островский<\/td>\n",
              "      <td>290<\/td>\n",
              "      <td>370<\/td>\n",
              "      <td>330.000000<\/td>\n",
              "    <\/tr>\n",
              "    <tr>\n",
              "      <th>Тургенев<\/th>\n",
              "      <td>Тургенев<\/td>\n",
              "      <td>300<\/td>\n",
              "      <td>450<\/td>\n",
              "      <td>366.666667<\/td>\n",
              "    <\/tr>\n",
              "    <tr>\n",
              "      <th>Чехов<\/th>\n",
              "      <td>Чехов<\/td>\n",
              "      <td>450<\/td>\n",
              "      <td>500<\/td>\n",
              "      <td>475.000000<\/td>\n",
              "    <\/tr>\n",
              "  <\/tbody>\n",
              "<\/table>\n",
              "<\/div>"
            ]
          },
          "metadata":{
            
          },
          "output_type":"display_data"
        }
      ],
      "metadata":{
        
      }
    },
    {
      "cell_type":"markdown",
      "source":[
        "<h3 id = \"task025\"> Задание5 <\/h3>\n",
        "<p>Создайте новый столбец в датафрейме authors_price под названием cover, в нем будут располагаться\n",
        "данные о том, какая обложка у данной книги - твердая или мягкая. В этот столбец поместите данные\n",
        "из следующего списка:\n",
        "['твердая', 'мягкая', 'мягкая', 'твердая', 'твердая', 'мягкая', 'мягкая'].\n",
        "Просмотрите документацию по функции pd.pivot_table с помощью вопросительного знака.Для каждого\n",
        "автора посчитайте суммарную стоимость книг в твердой и мягкой обложке. Используйте для этого\n",
        "функцию pd.pivot_table. При этом столбцы должны называться \"твердая\" и \"мягкая\", а индексами\n",
        "должны быть фамилии авторов. Пропущенные значения стоимостей заполните нулями, при\n",
        "необходимости загрузите библиотеку Numpy.\n",
        "Назовите полученный датасет book_info и сохраните его в формат pickle под названием\n",
        "\"book_info.pkl\". Затем загрузите из этого файла датафрейм и назовите его book_info2. Удостоверьтесь,\n",
        "что датафреймы book_info и book_info2 идентичны.<\/p>"
      ],
      "metadata":{
        
      }
    },
    {
      "cell_type":"code",
      "source":[
        "authors_price['cover'] = ['твердая', 'мягкая', 'мягкая', 'твердая', 'твердая', 'мягкая', 'мягкая']\n",
        "authors_price"
      ],
      "execution_count":13,
      "outputs":[
        {
          "data":{
            "text\/html":[
              "<div>\n",
              "<style scoped>\n",
              "    .dataframe tbody tr th:only-of-type {\n",
              "        vertical-align: middle;\n",
              "    }\n",
              "\n",
              "    .dataframe tbody tr th {\n",
              "        vertical-align: top;\n",
              "    }\n",
              "\n",
              "    .dataframe thead th {\n",
              "        text-align: right;\n",
              "    }\n",
              "<\/style>\n",
              "<table border=\"1\" class=\"dataframe\">\n",
              "  <thead>\n",
              "    <tr style=\"text-align: right;\">\n",
              "      <th><\/th>\n",
              "      <th>author_id<\/th>\n",
              "      <th>author_name<\/th>\n",
              "      <th>book_title<\/th>\n",
              "      <th>price<\/th>\n",
              "      <th>cover<\/th>\n",
              "    <\/tr>\n",
              "  <\/thead>\n",
              "  <tbody>\n",
              "    <tr>\n",
              "      <th>0<\/th>\n",
              "      <td>1<\/td>\n",
              "      <td>Тургенев<\/td>\n",
              "      <td>Отцы и дети<\/td>\n",
              "      <td>450<\/td>\n",
              "      <td>твердая<\/td>\n",
              "    <\/tr>\n",
              "    <tr>\n",
              "      <th>1<\/th>\n",
              "      <td>1<\/td>\n",
              "      <td>Тургенев<\/td>\n",
              "      <td>Рудин<\/td>\n",
              "      <td>300<\/td>\n",
              "      <td>мягкая<\/td>\n",
              "    <\/tr>\n",
              "    <tr>\n",
              "      <th>2<\/th>\n",
              "      <td>1<\/td>\n",
              "      <td>Тургенев<\/td>\n",
              "      <td>Дворянское гнездо<\/td>\n",
              "      <td>350<\/td>\n",
              "      <td>мягкая<\/td>\n",
              "    <\/tr>\n",
              "    <tr>\n",
              "      <th>3<\/th>\n",
              "      <td>2<\/td>\n",
              "      <td>Чехов<\/td>\n",
              "      <td>Толстый и тонкий<\/td>\n",
              "      <td>500<\/td>\n",
              "      <td>твердая<\/td>\n",
              "    <\/tr>\n",
              "    <tr>\n",
              "      <th>4<\/th>\n",
              "      <td>2<\/td>\n",
              "      <td>Чехов<\/td>\n",
              "      <td>Дама с собачкой<\/td>\n",
              "      <td>450<\/td>\n",
              "      <td>твердая<\/td>\n",
              "    <\/tr>\n",
              "    <tr>\n",
              "      <th>5<\/th>\n",
              "      <td>3<\/td>\n",
              "      <td>Островский<\/td>\n",
              "      <td>Гроза<\/td>\n",
              "      <td>370<\/td>\n",
              "      <td>мягкая<\/td>\n",
              "    <\/tr>\n",
              "    <tr>\n",
              "      <th>6<\/th>\n",
              "      <td>3<\/td>\n",
              "      <td>Островский<\/td>\n",
              "      <td>Таланты и поклонники<\/td>\n",
              "      <td>290<\/td>\n",
              "      <td>мягкая<\/td>\n",
              "    <\/tr>\n",
              "  <\/tbody>\n",
              "<\/table>\n",
              "<\/div>"
            ]
          },
          "metadata":{
            
          },
          "output_type":"display_data"
        }
      ],
      "metadata":{
        
      }
    },
    {
      "cell_type":"code",
      "source":[
        "pd.pivot_table?"
      ],
      "execution_count":14,
      "outputs":[
        {
          "data":{
            "text\/plain":[
              "\u001b[0;31mSignature:\u001b[0m\n",
              "\u001b[0mpd\u001b[0m\u001b[0;34m.\u001b[0m\u001b[0mpivot_table\u001b[0m\u001b[0;34m(\u001b[0m\u001b[0;34m\u001b[0m\n",
              "\u001b[0;34m\u001b[0m    \u001b[0mdata\u001b[0m\u001b[0;34m,\u001b[0m\u001b[0;34m\u001b[0m\n",
              "\u001b[0;34m\u001b[0m    \u001b[0mvalues\u001b[0m\u001b[0;34m=\u001b[0m\u001b[0;32mNone\u001b[0m\u001b[0;34m,\u001b[0m\u001b[0;34m\u001b[0m\n",
              "\u001b[0;34m\u001b[0m    \u001b[0mindex\u001b[0m\u001b[0;34m=\u001b[0m\u001b[0;32mNone\u001b[0m\u001b[0;34m,\u001b[0m\u001b[0;34m\u001b[0m\n",
              "\u001b[0;34m\u001b[0m    \u001b[0mcolumns\u001b[0m\u001b[0;34m=\u001b[0m\u001b[0;32mNone\u001b[0m\u001b[0;34m,\u001b[0m\u001b[0;34m\u001b[0m\n",
              "\u001b[0;34m\u001b[0m    \u001b[0maggfunc\u001b[0m\u001b[0;34m=\u001b[0m\u001b[0;34m'mean'\u001b[0m\u001b[0;34m,\u001b[0m\u001b[0;34m\u001b[0m\n",
              "\u001b[0;34m\u001b[0m    \u001b[0mfill_value\u001b[0m\u001b[0;34m=\u001b[0m\u001b[0;32mNone\u001b[0m\u001b[0;34m,\u001b[0m\u001b[0;34m\u001b[0m\n",
              "\u001b[0;34m\u001b[0m    \u001b[0mmargins\u001b[0m\u001b[0;34m=\u001b[0m\u001b[0;32mFalse\u001b[0m\u001b[0;34m,\u001b[0m\u001b[0;34m\u001b[0m\n",
              "\u001b[0;34m\u001b[0m    \u001b[0mdropna\u001b[0m\u001b[0;34m=\u001b[0m\u001b[0;32mTrue\u001b[0m\u001b[0;34m,\u001b[0m\u001b[0;34m\u001b[0m\n",
              "\u001b[0;34m\u001b[0m    \u001b[0mmargins_name\u001b[0m\u001b[0;34m=\u001b[0m\u001b[0;34m'All'\u001b[0m\u001b[0;34m,\u001b[0m\u001b[0;34m\u001b[0m\n",
              "\u001b[0;34m\u001b[0m    \u001b[0mobserved\u001b[0m\u001b[0;34m=\u001b[0m\u001b[0;32mFalse\u001b[0m\u001b[0;34m,\u001b[0m\u001b[0;34m\u001b[0m\n",
              "\u001b[0;34m\u001b[0m\u001b[0;34m)\u001b[0m \u001b[0;34m->\u001b[0m \u001b[0;34m'DataFrame'\u001b[0m\u001b[0;34m\u001b[0m\u001b[0;34m\u001b[0m\u001b[0m\n",
              "\u001b[0;31mDocstring:\u001b[0m\n",
              "Create a spreadsheet-style pivot table as a DataFrame.\n",
              "\n",
              "The levels in the pivot table will be stored in MultiIndex objects\n",
              "(hierarchical indexes) on the index and columns of the result DataFrame.\n",
              "\n",
              "Parameters\n",
              "----------\n",
              "data : DataFrame\n",
              "values : column to aggregate, optional\n",
              "index : column, Grouper, array, or list of the previous\n",
              "    If an array is passed, it must be the same length as the data. The\n",
              "    list can contain any of the other types (except list).\n",
              "    Keys to group by on the pivot table index.  If an array is passed,\n",
              "    it is being used as the same manner as column values.\n",
              "columns : column, Grouper, array, or list of the previous\n",
              "    If an array is passed, it must be the same length as the data. The\n",
              "    list can contain any of the other types (except list).\n",
              "    Keys to group by on the pivot table column.  If an array is passed,\n",
              "    it is being used as the same manner as column values.\n",
              "aggfunc : function, list of functions, dict, default numpy.mean\n",
              "    If list of functions passed, the resulting pivot table will have\n",
              "    hierarchical columns whose top level are the function names\n",
              "    (inferred from the function objects themselves)\n",
              "    If dict is passed, the key is column to aggregate and value\n",
              "    is function or list of functions.\n",
              "fill_value : scalar, default None\n",
              "    Value to replace missing values with (in the resulting pivot table,\n",
              "    after aggregation).\n",
              "margins : bool, default False\n",
              "    Add all row \/ columns (e.g. for subtotal \/ grand totals).\n",
              "dropna : bool, default True\n",
              "    Do not include columns whose entries are all NaN.\n",
              "margins_name : str, default 'All'\n",
              "    Name of the row \/ column that will contain the totals\n",
              "    when margins is True.\n",
              "observed : bool, default False\n",
              "    This only applies if any of the groupers are Categoricals.\n",
              "    If True: only show observed values for categorical groupers.\n",
              "    If False: show all values for categorical groupers.\n",
              "\n",
              "    .. versionchanged:: 0.25.0\n",
              "\n",
              "Returns\n",
              "-------\n",
              "DataFrame\n",
              "    An Excel style pivot table.\n",
              "\n",
              "See Also\n",
              "--------\n",
              "DataFrame.pivot : Pivot without aggregation that can handle\n",
              "    non-numeric data.\n",
              "\n",
              "Examples\n",
              "--------\n",
              ">>> df = pd.DataFrame({\"A\": [\"foo\", \"foo\", \"foo\", \"foo\", \"foo\",\n",
              "...                          \"bar\", \"bar\", \"bar\", \"bar\"],\n",
              "...                    \"B\": [\"one\", \"one\", \"one\", \"two\", \"two\",\n",
              "...                          \"one\", \"one\", \"two\", \"two\"],\n",
              "...                    \"C\": [\"small\", \"large\", \"large\", \"small\",\n",
              "...                          \"small\", \"large\", \"small\", \"small\",\n",
              "...                          \"large\"],\n",
              "...                    \"D\": [1, 2, 2, 3, 3, 4, 5, 6, 7],\n",
              "...                    \"E\": [2, 4, 5, 5, 6, 6, 8, 9, 9]})\n",
              ">>> df\n",
              "     A    B      C  D  E\n",
              "0  foo  one  small  1  2\n",
              "1  foo  one  large  2  4\n",
              "2  foo  one  large  2  5\n",
              "3  foo  two  small  3  5\n",
              "4  foo  two  small  3  6\n",
              "5  bar  one  large  4  6\n",
              "6  bar  one  small  5  8\n",
              "7  bar  two  small  6  9\n",
              "8  bar  two  large  7  9\n",
              "\n",
              "This first example aggregates values by taking the sum.\n",
              "\n",
              ">>> table = pd.pivot_table(df, values='D', index=['A', 'B'],\n",
              "...                     columns=['C'], aggfunc=np.sum)\n",
              ">>> table\n",
              "C        large  small\n",
              "A   B\n",
              "bar one    4.0    5.0\n",
              "    two    7.0    6.0\n",
              "foo one    4.0    1.0\n",
              "    two    NaN    6.0\n",
              "\n",
              "We can also fill missing values using the `fill_value` parameter.\n",
              "\n",
              ">>> table = pd.pivot_table(df, values='D', index=['A', 'B'],\n",
              "...                     columns=['C'], aggfunc=np.sum, fill_value=0)\n",
              ">>> table\n",
              "C        large  small\n",
              "A   B\n",
              "bar one      4      5\n",
              "    two      7      6\n",
              "foo one      4      1\n",
              "    two      0      6\n",
              "\n",
              "The next example aggregates by taking the mean across multiple columns.\n",
              "\n",
              ">>> table = pd.pivot_table(df, values=['D', 'E'], index=['A', 'C'],\n",
              "...                     aggfunc={'D': np.mean,\n",
              "...                              'E': np.mean})\n",
              ">>> table\n",
              "                D         E\n",
              "A   C\n",
              "bar large  5.500000  7.500000\n",
              "    small  5.500000  8.500000\n",
              "foo large  2.000000  4.500000\n",
              "    small  2.333333  4.333333\n",
              "\n",
              "We can also calculate multiple types of aggregations for any given\n",
              "value column.\n",
              "\n",
              ">>> table = pd.pivot_table(df, values=['D', 'E'], index=['A', 'C'],\n",
              "...                     aggfunc={'D': np.mean,\n",
              "...                              'E': [min, max, np.mean]})\n",
              ">>> table\n",
              "                D    E\n",
              "            mean  max      mean  min\n",
              "A   C\n",
              "bar large  5.500000  9.0  7.500000  6.0\n",
              "    small  5.500000  9.0  8.500000  8.0\n",
              "foo large  2.000000  5.0  4.500000  4.0\n",
              "    small  2.333333  6.0  4.333333  2.0\n",
              "\u001b[0;31mFile:\u001b[0m      \/opt\/anaconda3\/envs\/datalore-user\/lib\/python3.7\/site-packages\/pandas\/core\/reshape\/pivot.py\n",
              "\u001b[0;31mType:\u001b[0m      function\n"
            ]
          },
          "metadata":{
            
          },
          "output_type":"display_data"
        }
      ],
      "metadata":{
        
      }
    },
    {
      "cell_type":"code",
      "source":[
        "book_info = pd.pivot_table(authors_price,\n",
        "                          values ='price', columns = ['cover'], index = ['author_name'], aggfunc = np.sum)\n",
        "book_info"
      ],
      "execution_count":19,
      "outputs":[
        {
          "data":{
            "text\/html":[
              "<div>\n",
              "<style scoped>\n",
              "    .dataframe tbody tr th:only-of-type {\n",
              "        vertical-align: middle;\n",
              "    }\n",
              "\n",
              "    .dataframe tbody tr th {\n",
              "        vertical-align: top;\n",
              "    }\n",
              "\n",
              "    .dataframe thead th {\n",
              "        text-align: right;\n",
              "    }\n",
              "<\/style>\n",
              "<table border=\"1\" class=\"dataframe\">\n",
              "  <thead>\n",
              "    <tr style=\"text-align: right;\">\n",
              "      <th>cover<\/th>\n",
              "      <th>мягкая<\/th>\n",
              "      <th>твердая<\/th>\n",
              "    <\/tr>\n",
              "    <tr>\n",
              "      <th>author_name<\/th>\n",
              "      <th><\/th>\n",
              "      <th><\/th>\n",
              "    <\/tr>\n",
              "  <\/thead>\n",
              "  <tbody>\n",
              "    <tr>\n",
              "      <th>Островский<\/th>\n",
              "      <td>660.0<\/td>\n",
              "      <td>NaN<\/td>\n",
              "    <\/tr>\n",
              "    <tr>\n",
              "      <th>Тургенев<\/th>\n",
              "      <td>650.0<\/td>\n",
              "      <td>450.0<\/td>\n",
              "    <\/tr>\n",
              "    <tr>\n",
              "      <th>Чехов<\/th>\n",
              "      <td>NaN<\/td>\n",
              "      <td>950.0<\/td>\n",
              "    <\/tr>\n",
              "  <\/tbody>\n",
              "<\/table>\n",
              "<\/div>"
            ]
          },
          "metadata":{
            
          },
          "output_type":"display_data"
        }
      ],
      "metadata":{
        
      }
    },
    {
      "cell_type":"code",
      "source":[
        "book_info = book_info.fillna(0)\n",
        "book_info"
      ],
      "execution_count":20,
      "outputs":[
        {
          "data":{
            "text\/html":[
              "<div>\n",
              "<style scoped>\n",
              "    .dataframe tbody tr th:only-of-type {\n",
              "        vertical-align: middle;\n",
              "    }\n",
              "\n",
              "    .dataframe tbody tr th {\n",
              "        vertical-align: top;\n",
              "    }\n",
              "\n",
              "    .dataframe thead th {\n",
              "        text-align: right;\n",
              "    }\n",
              "<\/style>\n",
              "<table border=\"1\" class=\"dataframe\">\n",
              "  <thead>\n",
              "    <tr style=\"text-align: right;\">\n",
              "      <th>cover<\/th>\n",
              "      <th>мягкая<\/th>\n",
              "      <th>твердая<\/th>\n",
              "    <\/tr>\n",
              "    <tr>\n",
              "      <th>author_name<\/th>\n",
              "      <th><\/th>\n",
              "      <th><\/th>\n",
              "    <\/tr>\n",
              "  <\/thead>\n",
              "  <tbody>\n",
              "    <tr>\n",
              "      <th>Островский<\/th>\n",
              "      <td>660.0<\/td>\n",
              "      <td>0.0<\/td>\n",
              "    <\/tr>\n",
              "    <tr>\n",
              "      <th>Тургенев<\/th>\n",
              "      <td>650.0<\/td>\n",
              "      <td>450.0<\/td>\n",
              "    <\/tr>\n",
              "    <tr>\n",
              "      <th>Чехов<\/th>\n",
              "      <td>0.0<\/td>\n",
              "      <td>950.0<\/td>\n",
              "    <\/tr>\n",
              "  <\/tbody>\n",
              "<\/table>\n",
              "<\/div>"
            ]
          },
          "metadata":{
            
          },
          "output_type":"display_data"
        }
      ],
      "metadata":{
        
      }
    },
    {
      "cell_type":"code",
      "source":[
        "book_info.to_pickle('book_info.pkl')"
      ],
      "execution_count":21,
      "outputs":[
        
      ],
      "metadata":{
        
      }
    },
    {
      "cell_type":"code",
      "source":[
        "book_info2 = pd.read_pickle('book_info.pkl')\n",
        "book_info2"
      ],
      "execution_count":22,
      "outputs":[
        {
          "data":{
            "text\/html":[
              "<div>\n",
              "<style scoped>\n",
              "    .dataframe tbody tr th:only-of-type {\n",
              "        vertical-align: middle;\n",
              "    }\n",
              "\n",
              "    .dataframe tbody tr th {\n",
              "        vertical-align: top;\n",
              "    }\n",
              "\n",
              "    .dataframe thead th {\n",
              "        text-align: right;\n",
              "    }\n",
              "<\/style>\n",
              "<table border=\"1\" class=\"dataframe\">\n",
              "  <thead>\n",
              "    <tr style=\"text-align: right;\">\n",
              "      <th>cover<\/th>\n",
              "      <th>мягкая<\/th>\n",
              "      <th>твердая<\/th>\n",
              "    <\/tr>\n",
              "    <tr>\n",
              "      <th>author_name<\/th>\n",
              "      <th><\/th>\n",
              "      <th><\/th>\n",
              "    <\/tr>\n",
              "  <\/thead>\n",
              "  <tbody>\n",
              "    <tr>\n",
              "      <th>Островский<\/th>\n",
              "      <td>660.0<\/td>\n",
              "      <td>0.0<\/td>\n",
              "    <\/tr>\n",
              "    <tr>\n",
              "      <th>Тургенев<\/th>\n",
              "      <td>650.0<\/td>\n",
              "      <td>450.0<\/td>\n",
              "    <\/tr>\n",
              "    <tr>\n",
              "      <th>Чехов<\/th>\n",
              "      <td>0.0<\/td>\n",
              "      <td>950.0<\/td>\n",
              "    <\/tr>\n",
              "  <\/tbody>\n",
              "<\/table>\n",
              "<\/div>"
            ]
          },
          "metadata":{
            
          },
          "output_type":"display_data"
        }
      ],
      "metadata":{
        
      }
    },
    {
      "cell_type":"code",
      "source":[
        "book_info == book_info2 # дествительно идентичны"
      ],
      "execution_count":23,
      "outputs":[
        {
          "data":{
            "text\/html":[
              "<div>\n",
              "<style scoped>\n",
              "    .dataframe tbody tr th:only-of-type {\n",
              "        vertical-align: middle;\n",
              "    }\n",
              "\n",
              "    .dataframe tbody tr th {\n",
              "        vertical-align: top;\n",
              "    }\n",
              "\n",
              "    .dataframe thead th {\n",
              "        text-align: right;\n",
              "    }\n",
              "<\/style>\n",
              "<table border=\"1\" class=\"dataframe\">\n",
              "  <thead>\n",
              "    <tr style=\"text-align: right;\">\n",
              "      <th>cover<\/th>\n",
              "      <th>мягкая<\/th>\n",
              "      <th>твердая<\/th>\n",
              "    <\/tr>\n",
              "    <tr>\n",
              "      <th>author_name<\/th>\n",
              "      <th><\/th>\n",
              "      <th><\/th>\n",
              "    <\/tr>\n",
              "  <\/thead>\n",
              "  <tbody>\n",
              "    <tr>\n",
              "      <th>Островский<\/th>\n",
              "      <td>True<\/td>\n",
              "      <td>True<\/td>\n",
              "    <\/tr>\n",
              "    <tr>\n",
              "      <th>Тургенев<\/th>\n",
              "      <td>True<\/td>\n",
              "      <td>True<\/td>\n",
              "    <\/tr>\n",
              "    <tr>\n",
              "      <th>Чехов<\/th>\n",
              "      <td>True<\/td>\n",
              "      <td>True<\/td>\n",
              "    <\/tr>\n",
              "  <\/tbody>\n",
              "<\/table>\n",
              "<\/div>"
            ]
          },
          "metadata":{
            
          },
          "output_type":"display_data"
        }
      ],
      "metadata":{
        
      }
    }
  ],
  "metadata":{
    
  },
  "nbformat":4,
  "nbformat_minor":0
}